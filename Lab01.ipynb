{
 "cells": [
  {
   "cell_type": "code",
   "execution_count": 1,
   "metadata": {},
   "outputs": [],
   "source": [
    "import pandas as pd\n",
    "import numpy as np\n",
    "import matplotlib.pyplot as plt"
   ]
  },
  {
   "cell_type": "code",
   "execution_count": 2,
   "metadata": {},
   "outputs": [
    {
     "data": {
      "text/html": [
       "<div>\n",
       "<style scoped>\n",
       "    .dataframe tbody tr th:only-of-type {\n",
       "        vertical-align: middle;\n",
       "    }\n",
       "\n",
       "    .dataframe tbody tr th {\n",
       "        vertical-align: top;\n",
       "    }\n",
       "\n",
       "    .dataframe thead th {\n",
       "        text-align: right;\n",
       "    }\n",
       "</style>\n",
       "<table border=\"1\" class=\"dataframe\">\n",
       "  <thead>\n",
       "    <tr style=\"text-align: right;\">\n",
       "      <th></th>\n",
       "      <th>DATA</th>\n",
       "      <th>GENERE</th>\n",
       "      <th>ETA</th>\n",
       "      <th>SETTOREECONOMICODETTAGLIO</th>\n",
       "      <th>TITOLOSTUDIO</th>\n",
       "      <th>CONTRATTO</th>\n",
       "      <th>MODALITALAVORO</th>\n",
       "      <th>PROVINCIAIMPRESA</th>\n",
       "      <th>ITALIANO</th>\n",
       "    </tr>\n",
       "  </thead>\n",
       "  <tbody>\n",
       "    <tr>\n",
       "      <th>0</th>\n",
       "      <td>09/05/2020</td>\n",
       "      <td>F</td>\n",
       "      <td>60</td>\n",
       "      <td>Attività di famiglie e convivenze come datori ...</td>\n",
       "      <td>NESSUN TITOLO DI STUDIO</td>\n",
       "      <td>LAVORO DOMESTICO</td>\n",
       "      <td>TEMPO PIENO</td>\n",
       "      <td>BERGAMO</td>\n",
       "      <td>UCRAINA</td>\n",
       "    </tr>\n",
       "    <tr>\n",
       "      <th>1</th>\n",
       "      <td>12/07/2019</td>\n",
       "      <td>M</td>\n",
       "      <td>43</td>\n",
       "      <td>Gestioni di funicolari, ski-lift e seggiovie s...</td>\n",
       "      <td>LICENZA MEDIA</td>\n",
       "      <td>LAVORO A TEMPO DETERMINATO</td>\n",
       "      <td>TEMPO PIENO</td>\n",
       "      <td>BERGAMO</td>\n",
       "      <td>ITALIA</td>\n",
       "    </tr>\n",
       "    <tr>\n",
       "      <th>2</th>\n",
       "      <td>05/06/2013</td>\n",
       "      <td>F</td>\n",
       "      <td>20</td>\n",
       "      <td>Fabbricazione di altre apparecchiature elettri...</td>\n",
       "      <td>LICENZA MEDIA</td>\n",
       "      <td>APPRENDISTATO PROFESSIONALIZZANTE O CONTRATTO ...</td>\n",
       "      <td>TEMPO PIENO</td>\n",
       "      <td>BERGAMO</td>\n",
       "      <td>ITALIA</td>\n",
       "    </tr>\n",
       "    <tr>\n",
       "      <th>3</th>\n",
       "      <td>12/03/2010</td>\n",
       "      <td>F</td>\n",
       "      <td>28</td>\n",
       "      <td>Alberghi</td>\n",
       "      <td>DIPLOMA DI ISTRUZIONE SECONDARIA SUPERIORE  CH...</td>\n",
       "      <td>LAVORO INTERMITTENTE A TEMPO DETERMINATO</td>\n",
       "      <td>NON DEFINITO</td>\n",
       "      <td>BERGAMO</td>\n",
       "      <td>ITALIA</td>\n",
       "    </tr>\n",
       "    <tr>\n",
       "      <th>4</th>\n",
       "      <td>06/04/2021</td>\n",
       "      <td>F</td>\n",
       "      <td>49</td>\n",
       "      <td>Rifugi di montagna</td>\n",
       "      <td>LICENZA MEDIA</td>\n",
       "      <td>LAVORO INTERMITTENTE</td>\n",
       "      <td>NON DEFINITO</td>\n",
       "      <td>BERGAMO</td>\n",
       "      <td>ITALIA</td>\n",
       "    </tr>\n",
       "    <tr>\n",
       "      <th>5</th>\n",
       "      <td>06/08/2021</td>\n",
       "      <td>M</td>\n",
       "      <td>16</td>\n",
       "      <td>Costruzione di strade, autostrade e piste aero...</td>\n",
       "      <td>LICENZA MEDIA</td>\n",
       "      <td>LAVORO A TEMPO DETERMINATO</td>\n",
       "      <td>TEMPO PIENO</td>\n",
       "      <td>BERGAMO</td>\n",
       "      <td>ITALIA</td>\n",
       "    </tr>\n",
       "    <tr>\n",
       "      <th>6</th>\n",
       "      <td>04/03/2018</td>\n",
       "      <td>F</td>\n",
       "      <td>56</td>\n",
       "      <td>Confezioni di abbigliamento sportivo o di altr...</td>\n",
       "      <td>LICENZA MEDIA</td>\n",
       "      <td>LAVORO A TEMPO DETERMINATO</td>\n",
       "      <td>TEMPO PARZIALE ORIZZONTALE</td>\n",
       "      <td>BERGAMO</td>\n",
       "      <td>ITALIA</td>\n",
       "    </tr>\n",
       "    <tr>\n",
       "      <th>7</th>\n",
       "      <td>06/10/2011</td>\n",
       "      <td>M</td>\n",
       "      <td>20</td>\n",
       "      <td>Demolizione</td>\n",
       "      <td>LICENZA MEDIA</td>\n",
       "      <td>APPRENDISTATO PROFESSIONALIZZANTE</td>\n",
       "      <td>TEMPO PIENO</td>\n",
       "      <td>BERGAMO</td>\n",
       "      <td>ITALIA</td>\n",
       "    </tr>\n",
       "    <tr>\n",
       "      <th>8</th>\n",
       "      <td>03/07/2013</td>\n",
       "      <td>M</td>\n",
       "      <td>49</td>\n",
       "      <td>Demolizione</td>\n",
       "      <td>LICENZA MEDIA</td>\n",
       "      <td>LAVORO A TEMPO INDETERMINATO</td>\n",
       "      <td>TEMPO PIENO</td>\n",
       "      <td>BERGAMO</td>\n",
       "      <td>ITALIA</td>\n",
       "    </tr>\n",
       "    <tr>\n",
       "      <th>9</th>\n",
       "      <td>03/06/2014</td>\n",
       "      <td>M</td>\n",
       "      <td>29</td>\n",
       "      <td>Ristorazione con somministrazione</td>\n",
       "      <td>NESSUN TITOLO DI STUDIO</td>\n",
       "      <td>LAVORO A TEMPO INDETERMINATO</td>\n",
       "      <td>TEMPO PARZIALE ORIZZONTALE</td>\n",
       "      <td>BERGAMO</td>\n",
       "      <td>ERITREA</td>\n",
       "    </tr>\n",
       "  </tbody>\n",
       "</table>\n",
       "</div>"
      ],
      "text/plain": [
       "         DATA GENERE  ETA                          SETTOREECONOMICODETTAGLIO  \\\n",
       "0  09/05/2020      F   60  Attività di famiglie e convivenze come datori ...   \n",
       "1  12/07/2019      M   43  Gestioni di funicolari, ski-lift e seggiovie s...   \n",
       "2  05/06/2013      F   20  Fabbricazione di altre apparecchiature elettri...   \n",
       "3  12/03/2010      F   28                                           Alberghi   \n",
       "4  06/04/2021      F   49                                 Rifugi di montagna   \n",
       "5  06/08/2021      M   16  Costruzione di strade, autostrade e piste aero...   \n",
       "6  04/03/2018      F   56  Confezioni di abbigliamento sportivo o di altr...   \n",
       "7  06/10/2011      M   20                                        Demolizione   \n",
       "8  03/07/2013      M   49                                        Demolizione   \n",
       "9  03/06/2014      M   29                  Ristorazione con somministrazione   \n",
       "\n",
       "                                        TITOLOSTUDIO  \\\n",
       "0                            NESSUN TITOLO DI STUDIO   \n",
       "1                                      LICENZA MEDIA   \n",
       "2                                      LICENZA MEDIA   \n",
       "3  DIPLOMA DI ISTRUZIONE SECONDARIA SUPERIORE  CH...   \n",
       "4                                      LICENZA MEDIA   \n",
       "5                                      LICENZA MEDIA   \n",
       "6                                      LICENZA MEDIA   \n",
       "7                                      LICENZA MEDIA   \n",
       "8                                      LICENZA MEDIA   \n",
       "9                            NESSUN TITOLO DI STUDIO   \n",
       "\n",
       "                                           CONTRATTO  \\\n",
       "0                                   LAVORO DOMESTICO   \n",
       "1                         LAVORO A TEMPO DETERMINATO   \n",
       "2  APPRENDISTATO PROFESSIONALIZZANTE O CONTRATTO ...   \n",
       "3           LAVORO INTERMITTENTE A TEMPO DETERMINATO   \n",
       "4                               LAVORO INTERMITTENTE   \n",
       "5                         LAVORO A TEMPO DETERMINATO   \n",
       "6                         LAVORO A TEMPO DETERMINATO   \n",
       "7                  APPRENDISTATO PROFESSIONALIZZANTE   \n",
       "8                       LAVORO A TEMPO INDETERMINATO   \n",
       "9                       LAVORO A TEMPO INDETERMINATO   \n",
       "\n",
       "               MODALITALAVORO PROVINCIAIMPRESA ITALIANO  \n",
       "0                 TEMPO PIENO          BERGAMO  UCRAINA  \n",
       "1                 TEMPO PIENO          BERGAMO   ITALIA  \n",
       "2                 TEMPO PIENO          BERGAMO   ITALIA  \n",
       "3                NON DEFINITO          BERGAMO   ITALIA  \n",
       "4                NON DEFINITO          BERGAMO   ITALIA  \n",
       "5                 TEMPO PIENO          BERGAMO   ITALIA  \n",
       "6  TEMPO PARZIALE ORIZZONTALE          BERGAMO   ITALIA  \n",
       "7                 TEMPO PIENO          BERGAMO   ITALIA  \n",
       "8                 TEMPO PIENO          BERGAMO   ITALIA  \n",
       "9  TEMPO PARZIALE ORIZZONTALE          BERGAMO  ERITREA  "
      ]
     },
     "execution_count": 2,
     "metadata": {},
     "output_type": "execute_result"
    }
   ],
   "source": [
    "rapporti_lavoro_attivati_df = pd.read_csv(\"datasets/Rapporti_di_lavoro_attivati.csv\")\n",
    "rapporti_lavoro_attivati_df.head(10)"
   ]
  },
  {
   "cell_type": "markdown",
   "metadata": {},
   "source": [
    "### Checking for missing values"
   ]
  },
  {
   "cell_type": "code",
   "execution_count": 3,
   "metadata": {},
   "outputs": [
    {
     "data": {
      "text/plain": [
       "DATA                         False\n",
       "GENERE                       False\n",
       "ETA                          False\n",
       "SETTOREECONOMICODETTAGLIO     True\n",
       "TITOLOSTUDIO                  True\n",
       "CONTRATTO                    False\n",
       "MODALITALAVORO                True\n",
       "PROVINCIAIMPRESA             False\n",
       "ITALIANO                     False\n",
       "dtype: bool"
      ]
     },
     "execution_count": 3,
     "metadata": {},
     "output_type": "execute_result"
    }
   ],
   "source": [
    "(rapporti_lavoro_attivati_df.isnull()).any()"
   ]
  },
  {
   "cell_type": "markdown",
   "metadata": {},
   "source": [
    "##### In all the datasets there are some missing values in the \"SETTOREECONOMICODETTAGLIO\", \"TITOLOSTUDIO\" and \"MODALITALAVORO\" columns"
   ]
  },
  {
   "cell_type": "code",
   "execution_count": 4,
   "metadata": {},
   "outputs": [
    {
     "data": {
      "text/plain": [
       "DATA                         object\n",
       "GENERE                       object\n",
       "ETA                           int64\n",
       "SETTOREECONOMICODETTAGLIO    object\n",
       "TITOLOSTUDIO                 object\n",
       "CONTRATTO                    object\n",
       "MODALITALAVORO               object\n",
       "PROVINCIAIMPRESA             object\n",
       "ITALIANO                     object\n",
       "dtype: object"
      ]
     },
     "execution_count": 4,
     "metadata": {},
     "output_type": "execute_result"
    }
   ],
   "source": [
    "rapporti_lavoro_attivati_df.dtypes"
   ]
  },
  {
   "cell_type": "markdown",
   "metadata": {},
   "source": [
    "#### Checking if some columns contain missing values and counting the number of missing values for each column "
   ]
  },
  {
   "cell_type": "code",
   "execution_count": 5,
   "metadata": {},
   "outputs": [
    {
     "name": "stdout",
     "output_type": "stream",
     "text": [
      "DATA --> False\n",
      "GENERE --> False\n",
      "ETA --> False\n",
      "SETTOREECONOMICODETTAGLIO --> True\n",
      "TITOLOSTUDIO --> True\n",
      "CONTRATTO --> False\n",
      "MODALITALAVORO --> True\n",
      "PROVINCIAIMPRESA --> False\n",
      "ITALIANO --> False\n",
      "\n",
      "\n",
      "\n",
      "DATA                         object\n",
      "GENERE                       object\n",
      "ETA                           int64\n",
      "SETTOREECONOMICODETTAGLIO    object\n",
      "TITOLOSTUDIO                 object\n",
      "CONTRATTO                    object\n",
      "MODALITALAVORO               object\n",
      "PROVINCIAIMPRESA             object\n",
      "ITALIANO                     object\n",
      "dtype: object\n",
      "\n",
      "\n",
      "\n",
      "missing values for column 'SETTOREECONOMICODETTAGLIO': 2888\n",
      "missing values for column 'TITOLOSTUDIO': 580\n",
      "missing values for column 'MODALITALAVORO': 440779\n"
     ]
    }
   ],
   "source": [
    "#Checking if some column contains missing values\n",
    "for column in rapporti_lavoro_attivati_df.columns:\n",
    "    print(f'{column} --> {(rapporti_lavoro_attivati_df[column].isnull()).any()}')\n",
    "\n",
    "#Checking the type of the column\n",
    "print('\\n\\n')\n",
    "print(rapporti_lavoro_attivati_df.dtypes)\n",
    "print('\\n\\n')\n",
    "\n",
    "#counting missing values for column 'SETTOREECONOMICODETTAGLIO'\n",
    "count = 0\n",
    "for x in rapporti_lavoro_attivati_df['SETTOREECONOMICODETTAGLIO']:\n",
    "    if type(x) is not str:\n",
    "        count += 1\n",
    "print(f\"missing values for column 'SETTOREECONOMICODETTAGLIO': {count}\")\n",
    "\n",
    "#counting missing values for column 'TITOLOSTUDIO'\n",
    "count = 0\n",
    "for x in rapporti_lavoro_attivati_df['TITOLOSTUDIO']:\n",
    "    if type(x) is not str:\n",
    "        count += 1\n",
    "print(f\"missing values for column 'TITOLOSTUDIO': {count}\")\n",
    "\n",
    "#counting missing values for column 'MODALITALAVORO'\n",
    "count = 0\n",
    "for x in rapporti_lavoro_attivati_df['MODALITALAVORO']:\n",
    "    if type(x) is not str:\n",
    "        count += 1\n",
    "print(f\"missing values for column 'MODALITALAVORO': {count}\")"
   ]
  },
  {
   "cell_type": "markdown",
   "metadata": {},
   "source": [
    "#### Dropping missing values, since the number is low "
   ]
  },
  {
   "cell_type": "code",
   "execution_count": 6,
   "metadata": {},
   "outputs": [
    {
     "data": {
      "text/plain": [
       "(9579794, 9)"
      ]
     },
     "execution_count": 6,
     "metadata": {},
     "output_type": "execute_result"
    }
   ],
   "source": [
    "rapporti_lavoro_attivati_df.shape"
   ]
  },
  {
   "cell_type": "code",
   "execution_count": 7,
   "metadata": {},
   "outputs": [],
   "source": [
    "#Removing rows that contain missing values\n",
    "columns = ['SETTOREECONOMICODETTAGLIO', 'TITOLOSTUDIO', 'MODALITALAVORO']\n",
    "\n",
    "for column in columns:\n",
    "    for index, x in enumerate(rapporti_lavoro_attivati_df[column]):\n",
    "        if type(x) is not str:\n",
    "            rapporti_lavoro_attivati_df.at[index, column] = np.nan\n",
    "\n",
    "rapporti_lavoro_attivati_df.dropna(axis = 0, inplace=True)"
   ]
  },
  {
   "cell_type": "code",
   "execution_count": 8,
   "metadata": {},
   "outputs": [
    {
     "data": {
      "text/plain": [
       "(9135924, 9)"
      ]
     },
     "execution_count": 8,
     "metadata": {},
     "output_type": "execute_result"
    }
   ],
   "source": [
    "rapporti_lavoro_attivati_df.shape"
   ]
  },
  {
   "cell_type": "markdown",
   "metadata": {},
   "source": [
    "#### There are no more missing values "
   ]
  },
  {
   "cell_type": "code",
   "execution_count": 9,
   "metadata": {
    "scrolled": true
   },
   "outputs": [
    {
     "name": "stdout",
     "output_type": "stream",
     "text": [
      "DATA --> False\n",
      "GENERE --> False\n",
      "ETA --> False\n",
      "SETTOREECONOMICODETTAGLIO --> False\n",
      "TITOLOSTUDIO --> False\n",
      "CONTRATTO --> False\n",
      "MODALITALAVORO --> False\n",
      "PROVINCIAIMPRESA --> False\n",
      "ITALIANO --> False\n"
     ]
    }
   ],
   "source": [
    "for column in rapporti_lavoro_attivati_df.columns:\n",
    "    print(f'{column} --> {(rapporti_lavoro_attivati_df[column].isnull()).any()}')"
   ]
  },
  {
   "cell_type": "markdown",
   "metadata": {},
   "source": [
    "### Aggregating values "
   ]
  },
  {
   "cell_type": "code",
   "execution_count": 10,
   "metadata": {
    "scrolled": true
   },
   "outputs": [
    {
     "data": {
      "text/plain": [
       "TEMPO PIENO                   5335584\n",
       "TEMPO PARZIALE ORIZZONTALE    2025706\n",
       "NON DEFINITO                  1087133\n",
       "TEMPO PARZIALE MISTO           445384\n",
       "TEMPO PARZIALE VERTICALE       242117\n",
       "Name: MODALITALAVORO, dtype: int64"
      ]
     },
     "execution_count": 10,
     "metadata": {},
     "output_type": "execute_result"
    }
   ],
   "source": [
    "rapporti_lavoro_attivati_df['MODALITALAVORO'].value_counts()"
   ]
  },
  {
   "cell_type": "markdown",
   "metadata": {},
   "source": [
    "#### Since there less rows with 'NON DEFINITO', 'TEMPO PARZIALE MISTO' and 'TEMPO PARZIALE VERTICALE' compared to 'TEMPO PIENO', these categories need to be aggregate"
   ]
  },
  {
   "cell_type": "code",
   "execution_count": 11,
   "metadata": {},
   "outputs": [
    {
     "data": {
      "text/plain": [
       "TEMPO PIENO       5335584\n",
       "TEMPO PARZIALE    3800340\n",
       "Name: MODALITALAVORO, dtype: int64"
      ]
     },
     "execution_count": 11,
     "metadata": {},
     "output_type": "execute_result"
    }
   ],
   "source": [
    "categories = {\n",
    "    'TEMPO PIENO': 'TEMPO PIENO',\n",
    "    'TEMPO PARZIALE ORIZZONTALE': 'TEMPO PARZIALE',\n",
    "    'NON DEFINITO': 'TEMPO PARZIALE',\n",
    "    'TEMPO PARZIALE MISTO': 'TEMPO PARZIALE',\n",
    "    'TEMPO PARZIALE VERTICALE': 'TEMPO PARZIALE',\n",
    "}\n",
    "\n",
    "rapporti_lavoro_attivati_df['MODALITALAVORO'] = [categories[x] for x in rapporti_lavoro_attivati_df['MODALITALAVORO']]\n",
    "rapporti_lavoro_attivati_df['MODALITALAVORO'].value_counts()"
   ]
  },
  {
   "cell_type": "markdown",
   "metadata": {},
   "source": [
    "#### Another aggregation can be made by the age of the people "
   ]
  },
  {
   "cell_type": "code",
   "execution_count": 12,
   "metadata": {},
   "outputs": [
    {
     "data": {
      "text/plain": [
       "(9135924, 9)"
      ]
     },
     "execution_count": 12,
     "metadata": {},
     "output_type": "execute_result"
    }
   ],
   "source": [
    "rapporti_lavoro_attivati_df.shape"
   ]
  },
  {
   "cell_type": "code",
   "execution_count": 13,
   "metadata": {},
   "outputs": [
    {
     "name": "stdout",
     "output_type": "stream",
     "text": [
      "Number of people that started a job with age<20 or age>59: 697091\n"
     ]
    }
   ],
   "source": [
    "count = 0\n",
    "for x in rapporti_lavoro_attivati_df['ETA']:\n",
    "    if x < 20 or x > 59 :\n",
    "        count += 1\n",
    "print(f\"Number of people that started a job with age<20 or age>59: {count}\")"
   ]
  },
  {
   "cell_type": "code",
   "execution_count": 14,
   "metadata": {},
   "outputs": [],
   "source": [
    "rapporti_lavoro_attivati_df.drop(\n",
    "    rapporti_lavoro_attivati_df[(rapporti_lavoro_attivati_df.ETA < 20) | (rapporti_lavoro_attivati_df.ETA > 59)].index,\n",
    "    inplace=True)"
   ]
  },
  {
   "cell_type": "code",
   "execution_count": 15,
   "metadata": {},
   "outputs": [
    {
     "data": {
      "text/plain": [
       "(8438833, 9)"
      ]
     },
     "execution_count": 15,
     "metadata": {},
     "output_type": "execute_result"
    }
   ],
   "source": [
    "rapporti_lavoro_attivati_df.shape"
   ]
  },
  {
   "cell_type": "code",
   "execution_count": 16,
   "metadata": {},
   "outputs": [
    {
     "data": {
      "text/plain": [
       "20-29    3082611\n",
       "30-39    2418417\n",
       "40-49    1919532\n",
       "50-59    1018273\n",
       "Name: ETA, dtype: int64"
      ]
     },
     "execution_count": 16,
     "metadata": {},
     "output_type": "execute_result"
    }
   ],
   "source": [
    "category_20_29 = {\n",
    "    20: '20-29',\n",
    "    21: '20-29',\n",
    "    22: '20-29',\n",
    "    23: '20-29',\n",
    "    24: '20-29',\n",
    "    25: '20-29',\n",
    "    26: '20-29',\n",
    "    27: '20-29',\n",
    "    28: '20-29',\n",
    "    29: '20-29',\n",
    "}\n",
    "category_30_39 = {\n",
    "    30: '30-39',\n",
    "    31: '30-39',\n",
    "    32: '30-39',\n",
    "    33: '30-39',\n",
    "    34: '30-39',\n",
    "    35: '30-39',\n",
    "    36: '30-39',\n",
    "    37: '30-39',\n",
    "    38: '30-39',\n",
    "    39: '30-39',\n",
    "}\n",
    "category_40_49 = {\n",
    "    40: '40-49',\n",
    "    41: '40-49',\n",
    "    42: '40-49',\n",
    "    43: '40-49',\n",
    "    44: '40-49',\n",
    "    45: '40-49',\n",
    "    46: '40-49',\n",
    "    47: '40-49',\n",
    "    48: '40-49',\n",
    "    49: '40-49',\n",
    "}\n",
    "category_50_59 = {\n",
    "    50: '50-59',\n",
    "    51: '50-59',\n",
    "    52: '50-59',\n",
    "    53: '50-59',\n",
    "    54: '50-59',\n",
    "    55: '50-59',\n",
    "    56: '50-59',\n",
    "    57: '50-59',\n",
    "    58: '50-59',\n",
    "    59: '50-59',\n",
    "}\n",
    "categories = dict(category_20_29)\n",
    "categories.update(category_30_39)\n",
    "categories.update(category_40_49)\n",
    "categories.update(category_50_59)\n",
    "\n",
    "rapporti_lavoro_attivati_df['ETA'] = [categories[x] for x in rapporti_lavoro_attivati_df['ETA']]\n",
    "rapporti_lavoro_attivati_df['ETA'].value_counts()"
   ]
  },
  {
   "cell_type": "code",
   "execution_count": 17,
   "metadata": {},
   "outputs": [
    {
     "name": "stdout",
     "output_type": "stream",
     "text": [
      "DATA                         object\n",
      "GENERE                       object\n",
      "ETA                          object\n",
      "SETTOREECONOMICODETTAGLIO    object\n",
      "TITOLOSTUDIO                 object\n",
      "CONTRATTO                    object\n",
      "MODALITALAVORO               object\n",
      "PROVINCIAIMPRESA             object\n",
      "ITALIANO                     object\n",
      "dtype: object\n"
     ]
    }
   ],
   "source": [
    "print(rapporti_lavoro_attivati_df.dtypes)"
   ]
  },
  {
   "cell_type": "code",
   "execution_count": 18,
   "metadata": {},
   "outputs": [
    {
     "data": {
      "text/plain": [
       "Alberghi                                                                                                                                                                           426040\n",
       "Ristorazione con somministrazione                                                                                                                                                  384304\n",
       "Attività di produzione cinematografica, di video e di programmi televisivi                                                                                                         348784\n",
       "Attività di famiglie e convivenze come datori di lavoro per personale domestico                                                                                                    318850\n",
       "Altri servizi di supporto alle imprese nca                                                                                                                                         278226\n",
       "                                                                                                                                                                                    ...  \n",
       "Coltivazione di ortaggi (inclusi i meloni) in foglia, a fusto, a frutto, in radici, bulbi e tuberi in colture\\nprotette fuori suolo (escluse barbabietola da zucchero e patate)         1\n",
       "Agenti e rappresentanti di giocattoli                                                                                                                                                   1\n",
       "Regolamentazione degli affari e servizi concernenti la costruzione di opere per la navigazione interna e marittima                                                                      1\n",
       "Coltivazione di fiori in colture protette fuori suolo                                                                                                                                   1\n",
       "Attività delle guide alpine                                                                                                                                                             1\n",
       "Name: SETTOREECONOMICODETTAGLIO, Length: 1223, dtype: int64"
      ]
     },
     "execution_count": 18,
     "metadata": {},
     "output_type": "execute_result"
    }
   ],
   "source": [
    "rapporti_lavoro_attivati_df['SETTOREECONOMICODETTAGLIO'].value_counts()"
   ]
  },
  {
   "cell_type": "markdown",
   "metadata": {},
   "source": [
    "### Data distribution "
   ]
  },
  {
   "cell_type": "code",
   "execution_count": 19,
   "metadata": {},
   "outputs": [
    {
     "data": {
      "image/png": "[encoded data removed]",
      "text/plain": [
       "<Figure size 504x504 with 1 Axes>"
      ]
     },
     "metadata": {},
     "output_type": "display_data"
    }
   ],
   "source": [
    "freq_table = rapporti_lavoro_attivati_df.ETA.value_counts()\n",
    "xaxis = freq_table.index\n",
    "value = freq_table.values\n",
    "fig1, ax1 = plt.subplots(figsize=(7,7))\n",
    "ax1.pie(value, labels=xaxis, autopct='%1.1f%%',\n",
    "        shadow=True, startangle=90)\n",
    "ax1.axis('equal')\n",
    "plt.show()"
   ]
  },
  {
   "cell_type": "code",
   "execution_count": 20,
   "metadata": {},
   "outputs": [
    {
     "name": "stdout",
     "output_type": "stream",
     "text": [
      "{'ITALIA': 6336609, 'ROMANIA': 345083, 'EGITTO': 162016, 'ALBANIA': 160080, 'MAROCCO': 150348, 'Cinese, Repubblica Popolare': 118815, 'INDIA': 89900, 'SENEGAL': 83915, 'PAKISTAN': 83250, \"PERU'\": 80276, 'UCRAINA': 78277, 'FILIPPINE': 70041, 'ECUADOR': 64886, 'SRI LANKA': 54334, 'BANGLADESH': 43215, 'Moldova': 39677, 'TUNISIA': 31341, 'NIGERIA': 27396, 'GHANA': 22873, 'BRASILE': 21743, \"COSTA D'AVORIO\": 21580, 'EL SALVADOR': 19885, 'BULGARIA': 19506, 'KOSOVO': 17339, 'BOLIVIA': 17312, 'POLONIA': 16144, 'Dominicana, Repubblica': 11961, 'SPAGNA': 11389, 'RUSSA, Federazione': 11036, 'CUBA': 10707, 'COLOMBIA': 9172, 'BURKINA FASO': 8996, 'TURCHIA': 8824, 'FRANCIA': 8338, 'REGNO UNITO': 8188, 'CAMERUN': 8096, 'MACEDONIA, ex REP. JUGOSLAVIA': 8056, 'SERBIA': 8054, 'GERMANIA': 6345, 'BOSNIA-ERZEGOVINA': 6117, 'CROAZIA': 6067, 'GAMBIA': 5771, 'TOGO': 4930, 'MALI': 4769, 'ALGERIA': 4666, 'UNGHERIA': 4647, 'ERITREA': 4419, 'GUINEA': 4271, 'IRAN': 4143, 'VENEZUELA': 4080, 'GEORGIA': 3817, 'Mauritius': 3584, 'ARGENTINA': 3497, 'AFGHANISTAN': 3345, 'ETIOPIA': 3132, 'PORTOGALLO': 2919, 'LITUANIA': 2777, \"STATI UNITI D'AMERICA\": 2690, 'SLOVACCHIA': 2610, 'BIELORUSSIA': 2483, 'SVIZZERA': 2189, 'GIAPPONE': 2125, 'GRECIA': 1944, 'SOMALIA': 1921, 'KENYA': 1900, 'CECA, Repubblica': 1879, 'SIRIA': 1834, 'LETTONIA': 1801, 'Congo, Rep.Democratica': 1654, 'THAILANDIA': 1642, 'BENIN': 1634, 'DOMINICA': 1629, 'PAESI BASSI': 1579, 'SIERRA LEONE': 1440, 'HONDURAS': 1393, 'CILE': 1317, 'LIBANO': 1303, 'MESSICO': 1205, 'AUSTRIA': 1129, 'BELGIO': 1095, 'NIGER': 1074, 'CONGO': 1062, 'Corea, Repubblica': 1062, 'MAURITANIA': 1028, 'LIBERIA': 1026, 'ESTONIA': 941, 'SUDAN': 850, 'URUGUAY': 732, 'SLOVENIA': 697, 'GUINEA BISSAU': 667, 'CAPO VERDE': 661, 'SVEZIA': 661, 'IRLANDA': 659, 'PARAGUAY': 657, 'KAZAKHSTAN': 620, 'NEPAL': 574, 'IRAQ': 543, 'LIBIA': 537, 'ANGOLA': 530, 'AUSTRALIA': 511, 'SUD AFRICA': 482, 'SERBIA E MONTENEGRO': 480, 'FINLANDIA': 461, 'CANADA': 445, 'TAIWAN': 444, 'ISRAELE': 432, 'MONTENEGRO': 407, 'UGANDA': 396, 'GIORDANIA': 381, 'ARMENIA': 362, 'INDONESIA': 351, 'DANIMARCA': 319, 'VIETNAM': 315, 'GUATEMALA': 313, 'UZBEKISTAN': 294, 'NICARAGUA': 252, 'SEYCHELLES': 247, 'MALAYSIA': 237, 'APOLIDE': 202, 'KIRGHIZISTAN': 202, 'MONGOLIA': 194, 'COSTA RICA': 192, 'NORVEGIA': 186, 'AZERBAIGIAN': 184, 'MALTA': 181, 'MADAGASCAR': 177, 'Centrafricana, Repubblica': 169, 'TANZANIA': 169, 'BURUNDI': 149, 'NUOVA ZELANDA': 149, 'RUANDA': 145, 'ZAMBIA': 131, 'CIAD': 131, 'SAN MARINO': 129, 'GABON': 116, 'CAMBOGIA': 111, 'SINGAPORE': 106, 'HAITI': 101, 'GIAMAICA': 99, 'PANAMA': 87, 'MYANMAR': 87, 'TERRITORI PALESTINESI': 87, 'MOZAMBICO': 84, 'MALDIVE': 83, 'ISLANDA': 77, 'Territori Autonomia Palestinese': 75, 'ARABIA SAUDITA': 73, 'CIPRO': 73, 'LIECHTENSTEIN': 69, 'LUSSEMBURGO': 52, 'GUINEA EQUATORIALE': 50, 'ZIMBABWE': 42, 'EMIRATI ARABI UNITI': 38, 'TAGIKISTAN': 38, 'YEMEN': 37, 'KUWAIT': 36, 'Corea, Repubblica Popolare': 33, 'PAPUA NUOVA GUINEA': 31, 'FIGI': 28, 'TURKMENISTAN': 26, 'BAHREIN': 23, 'TRINIDAD E TOBAGO': 18, 'MALAWI': 18, 'TUVALU': 17, 'Marshall, Isole': 16, 'LAOS': 16, 'NAMIBIA': 15, 'ANDORRA': 15, 'BAHAMAS': 14, 'BHUTAN': 13, 'Micronesia, Stati Federati': 13, 'MONACO': 12, 'Sao Tomè e Principe': 11, 'BARBADOS': 10, 'OMAN': 10, 'PALAU': 10, 'VANUATU': 9, 'BOTSWANA': 9, 'GUYANA': 9, 'QATAR': 9, 'Saint Vincent e Grenadin': 8, 'KIRIBATI': 8, 'SANTA SEDE': 8, 'ANTIGUA E BARBUDA': 6, 'SWAZILAND': 6, 'GIBUTI': 5, 'BRUNEI': 5, 'Saint Kitts e Nevis': 4, 'SURINAME': 4, 'COMORE': 4, 'LESOTHO': 3, 'TONGA': 3, 'GRENADA': 3, 'NAURU': 2, 'SAINT LUCIA': 2, 'BELIZE': 2, 'SUD SUDAN': 2, 'SAMOA': 1, 'Timor Orientale': 1}\n"
     ]
    }
   ],
   "source": [
    "table = rapporti_lavoro_attivati_df['ITALIANO'].value_counts().to_dict()\n",
    "print(table)"
   ]
  },
  {
   "cell_type": "code",
   "execution_count": 21,
   "metadata": {},
   "outputs": [
    {
     "name": "stdout",
     "output_type": "stream",
     "text": [
      "['ITALIA', 'ROMANIA', 'EGITTO', 'ALBANIA', 'MAROCCO', 'Cinese, Repubblica Popolare', 'INDIA', 'SENEGAL', 'PAKISTAN', \"PERU'\", 'UCRAINA', 'FILIPPINE', 'ECUADOR', 'SRI LANKA', 'BANGLADESH', 'Moldova', 'TUNISIA']\n"
     ]
    },
    {
     "ename": "KeyboardInterrupt",
     "evalue": "",
     "output_type": "error",
     "traceback": [
      "\u001b[1;31m---------------------------------------------------------------------------\u001b[0m",
      "\u001b[1;31mKeyError\u001b[0m                                  Traceback (most recent call last)",
      "\u001b[1;32m~\\anaconda3\\envs\\venv\\lib\\site-packages\\pandas\\core\\frame.py\u001b[0m in \u001b[0;36m_set_value\u001b[1;34m(self, index, col, value, takeable)\u001b[0m\n\u001b[0;32m   3032\u001b[0m             \u001b[0mengine\u001b[0m \u001b[1;33m=\u001b[0m \u001b[0mself\u001b[0m\u001b[1;33m.\u001b[0m\u001b[0mindex\u001b[0m\u001b[1;33m.\u001b[0m\u001b[0m_engine\u001b[0m\u001b[1;33m\u001b[0m\u001b[1;33m\u001b[0m\u001b[0m\n\u001b[1;32m-> 3033\u001b[1;33m             \u001b[0mengine\u001b[0m\u001b[1;33m.\u001b[0m\u001b[0mset_value\u001b[0m\u001b[1;33m(\u001b[0m\u001b[0mseries\u001b[0m\u001b[1;33m.\u001b[0m\u001b[0m_values\u001b[0m\u001b[1;33m,\u001b[0m \u001b[0mindex\u001b[0m\u001b[1;33m,\u001b[0m \u001b[0mvalue\u001b[0m\u001b[1;33m)\u001b[0m\u001b[1;33m\u001b[0m\u001b[1;33m\u001b[0m\u001b[0m\n\u001b[0m\u001b[0;32m   3034\u001b[0m             \u001b[1;32mreturn\u001b[0m \u001b[0mself\u001b[0m\u001b[1;33m\u001b[0m\u001b[1;33m\u001b[0m\u001b[0m\n",
      "\u001b[1;32mpandas\\_libs\\index.pyx\u001b[0m in \u001b[0;36mpandas._libs.index.IndexEngine.set_value\u001b[1;34m()\u001b[0m\n",
      "\u001b[1;32mpandas\\_libs\\index.pyx\u001b[0m in \u001b[0;36mpandas._libs.index.IndexEngine.set_value\u001b[1;34m()\u001b[0m\n",
      "\u001b[1;32mpandas\\_libs\\index.pyx\u001b[0m in \u001b[0;36mpandas._libs.index.IndexEngine.get_loc\u001b[1;34m()\u001b[0m\n",
      "\u001b[1;32mpandas\\_libs\\hashtable_class_helper.pxi\u001b[0m in \u001b[0;36mpandas._libs.hashtable.Int64HashTable.get_item\u001b[1;34m()\u001b[0m\n",
      "\u001b[1;32mpandas\\_libs\\hashtable_class_helper.pxi\u001b[0m in \u001b[0;36mpandas._libs.hashtable.Int64HashTable.get_item\u001b[1;34m()\u001b[0m\n",
      "\u001b[1;31mKeyError\u001b[0m: 169679",
      "\nDuring handling of the above exception, another exception occurred:\n",
      "\u001b[1;31mKeyboardInterrupt\u001b[0m                         Traceback (most recent call last)",
      "\u001b[1;32m<ipython-input-21-4dcbd7d2d716>\u001b[0m in \u001b[0;36m<module>\u001b[1;34m\u001b[0m\n\u001b[0;32m      5\u001b[0m \u001b[1;32mfor\u001b[0m \u001b[0mindex\u001b[0m\u001b[1;33m,\u001b[0m \u001b[0mx\u001b[0m \u001b[1;32min\u001b[0m \u001b[0menumerate\u001b[0m\u001b[1;33m(\u001b[0m\u001b[0mrapporti_lavoro_attivati_df\u001b[0m\u001b[1;33m[\u001b[0m\u001b[1;34m'ITALIANO'\u001b[0m\u001b[1;33m]\u001b[0m\u001b[1;33m)\u001b[0m\u001b[1;33m:\u001b[0m\u001b[1;33m\u001b[0m\u001b[1;33m\u001b[0m\u001b[0m\n\u001b[0;32m      6\u001b[0m     \u001b[1;32mif\u001b[0m \u001b[0mx\u001b[0m \u001b[1;32mnot\u001b[0m \u001b[1;32min\u001b[0m \u001b[0mresult\u001b[0m\u001b[1;33m:\u001b[0m\u001b[1;33m\u001b[0m\u001b[1;33m\u001b[0m\u001b[0m\n\u001b[1;32m----> 7\u001b[1;33m         \u001b[0mrapporti_lavoro_attivati_df\u001b[0m\u001b[1;33m.\u001b[0m\u001b[0mat\u001b[0m\u001b[1;33m[\u001b[0m\u001b[0mindex\u001b[0m\u001b[1;33m,\u001b[0m \u001b[1;34m'ITALIANO'\u001b[0m\u001b[1;33m]\u001b[0m \u001b[1;33m=\u001b[0m \u001b[1;34m'ALTRO'\u001b[0m\u001b[1;33m\u001b[0m\u001b[1;33m\u001b[0m\u001b[0m\n\u001b[0m",
      "\u001b[1;32m~\\anaconda3\\envs\\venv\\lib\\site-packages\\pandas\\core\\indexing.py\u001b[0m in \u001b[0;36m__setitem__\u001b[1;34m(self, key, value)\u001b[0m\n\u001b[0;32m   2192\u001b[0m         \u001b[0mkey\u001b[0m \u001b[1;33m=\u001b[0m \u001b[0mlist\u001b[0m\u001b[1;33m(\u001b[0m\u001b[0mself\u001b[0m\u001b[1;33m.\u001b[0m\u001b[0m_convert_key\u001b[0m\u001b[1;33m(\u001b[0m\u001b[0mkey\u001b[0m\u001b[1;33m,\u001b[0m \u001b[0mis_setter\u001b[0m\u001b[1;33m=\u001b[0m\u001b[1;32mTrue\u001b[0m\u001b[1;33m)\u001b[0m\u001b[1;33m)\u001b[0m\u001b[1;33m\u001b[0m\u001b[1;33m\u001b[0m\u001b[0m\n\u001b[0;32m   2193\u001b[0m         \u001b[0mkey\u001b[0m\u001b[1;33m.\u001b[0m\u001b[0mappend\u001b[0m\u001b[1;33m(\u001b[0m\u001b[0mvalue\u001b[0m\u001b[1;33m)\u001b[0m\u001b[1;33m\u001b[0m\u001b[1;33m\u001b[0m\u001b[0m\n\u001b[1;32m-> 2194\u001b[1;33m         \u001b[0mself\u001b[0m\u001b[1;33m.\u001b[0m\u001b[0mobj\u001b[0m\u001b[1;33m.\u001b[0m\u001b[0m_set_value\u001b[0m\u001b[1;33m(\u001b[0m\u001b[1;33m*\u001b[0m\u001b[0mkey\u001b[0m\u001b[1;33m,\u001b[0m \u001b[0mtakeable\u001b[0m\u001b[1;33m=\u001b[0m\u001b[0mself\u001b[0m\u001b[1;33m.\u001b[0m\u001b[0m_takeable\u001b[0m\u001b[1;33m)\u001b[0m\u001b[1;33m\u001b[0m\u001b[1;33m\u001b[0m\u001b[0m\n\u001b[0m\u001b[0;32m   2195\u001b[0m \u001b[1;33m\u001b[0m\u001b[0m\n\u001b[0;32m   2196\u001b[0m \u001b[1;33m\u001b[0m\u001b[0m\n",
      "\u001b[1;32m~\\anaconda3\\envs\\venv\\lib\\site-packages\\pandas\\core\\frame.py\u001b[0m in \u001b[0;36m_set_value\u001b[1;34m(self, index, col, value, takeable)\u001b[0m\n\u001b[0;32m   3039\u001b[0m                 \u001b[0mself\u001b[0m\u001b[1;33m.\u001b[0m\u001b[0miloc\u001b[0m\u001b[1;33m[\u001b[0m\u001b[0mindex\u001b[0m\u001b[1;33m,\u001b[0m \u001b[0mcol\u001b[0m\u001b[1;33m]\u001b[0m \u001b[1;33m=\u001b[0m \u001b[0mvalue\u001b[0m\u001b[1;33m\u001b[0m\u001b[1;33m\u001b[0m\u001b[0m\n\u001b[0;32m   3040\u001b[0m             \u001b[1;32melse\u001b[0m\u001b[1;33m:\u001b[0m\u001b[1;33m\u001b[0m\u001b[1;33m\u001b[0m\u001b[0m\n\u001b[1;32m-> 3041\u001b[1;33m                 \u001b[0mself\u001b[0m\u001b[1;33m.\u001b[0m\u001b[0mloc\u001b[0m\u001b[1;33m[\u001b[0m\u001b[0mindex\u001b[0m\u001b[1;33m,\u001b[0m \u001b[0mcol\u001b[0m\u001b[1;33m]\u001b[0m \u001b[1;33m=\u001b[0m \u001b[0mvalue\u001b[0m\u001b[1;33m\u001b[0m\u001b[1;33m\u001b[0m\u001b[0m\n\u001b[0m\u001b[0;32m   3042\u001b[0m             \u001b[0mself\u001b[0m\u001b[1;33m.\u001b[0m\u001b[0m_item_cache\u001b[0m\u001b[1;33m.\u001b[0m\u001b[0mpop\u001b[0m\u001b[1;33m(\u001b[0m\u001b[0mcol\u001b[0m\u001b[1;33m,\u001b[0m \u001b[1;32mNone\u001b[0m\u001b[1;33m)\u001b[0m\u001b[1;33m\u001b[0m\u001b[1;33m\u001b[0m\u001b[0m\n\u001b[0;32m   3043\u001b[0m \u001b[1;33m\u001b[0m\u001b[0m\n",
      "\u001b[1;32m~\\anaconda3\\envs\\venv\\lib\\site-packages\\pandas\\core\\indexing.py\u001b[0m in \u001b[0;36m__setitem__\u001b[1;34m(self, key, value)\u001b[0m\n\u001b[0;32m    669\u001b[0m             \u001b[0mkey\u001b[0m \u001b[1;33m=\u001b[0m \u001b[0mcom\u001b[0m\u001b[1;33m.\u001b[0m\u001b[0mapply_if_callable\u001b[0m\u001b[1;33m(\u001b[0m\u001b[0mkey\u001b[0m\u001b[1;33m,\u001b[0m \u001b[0mself\u001b[0m\u001b[1;33m.\u001b[0m\u001b[0mobj\u001b[0m\u001b[1;33m)\u001b[0m\u001b[1;33m\u001b[0m\u001b[1;33m\u001b[0m\u001b[0m\n\u001b[0;32m    670\u001b[0m         \u001b[0mindexer\u001b[0m \u001b[1;33m=\u001b[0m \u001b[0mself\u001b[0m\u001b[1;33m.\u001b[0m\u001b[0m_get_setitem_indexer\u001b[0m\u001b[1;33m(\u001b[0m\u001b[0mkey\u001b[0m\u001b[1;33m)\u001b[0m\u001b[1;33m\u001b[0m\u001b[1;33m\u001b[0m\u001b[0m\n\u001b[1;32m--> 671\u001b[1;33m         \u001b[0mself\u001b[0m\u001b[1;33m.\u001b[0m\u001b[0m_setitem_with_indexer\u001b[0m\u001b[1;33m(\u001b[0m\u001b[0mindexer\u001b[0m\u001b[1;33m,\u001b[0m \u001b[0mvalue\u001b[0m\u001b[1;33m)\u001b[0m\u001b[1;33m\u001b[0m\u001b[1;33m\u001b[0m\u001b[0m\n\u001b[0m\u001b[0;32m    672\u001b[0m \u001b[1;33m\u001b[0m\u001b[0m\n\u001b[0;32m    673\u001b[0m     \u001b[1;32mdef\u001b[0m \u001b[0m_validate_key\u001b[0m\u001b[1;33m(\u001b[0m\u001b[0mself\u001b[0m\u001b[1;33m,\u001b[0m \u001b[0mkey\u001b[0m\u001b[1;33m,\u001b[0m \u001b[0maxis\u001b[0m\u001b[1;33m:\u001b[0m \u001b[0mint\u001b[0m\u001b[1;33m)\u001b[0m\u001b[1;33m:\u001b[0m\u001b[1;33m\u001b[0m\u001b[1;33m\u001b[0m\u001b[0m\n",
      "\u001b[1;32m~\\anaconda3\\envs\\venv\\lib\\site-packages\\pandas\\core\\indexing.py\u001b[0m in \u001b[0;36m_setitem_with_indexer\u001b[1;34m(self, indexer, value)\u001b[0m\n\u001b[0;32m    858\u001b[0m                     \u001b[0mindex\u001b[0m \u001b[1;33m=\u001b[0m \u001b[0mself\u001b[0m\u001b[1;33m.\u001b[0m\u001b[0mobj\u001b[0m\u001b[1;33m.\u001b[0m\u001b[0m_get_axis\u001b[0m\u001b[1;33m(\u001b[0m\u001b[0mi\u001b[0m\u001b[1;33m)\u001b[0m\u001b[1;33m\u001b[0m\u001b[1;33m\u001b[0m\u001b[0m\n\u001b[0;32m    859\u001b[0m                     \u001b[0mlabels\u001b[0m \u001b[1;33m=\u001b[0m \u001b[0mindex\u001b[0m\u001b[1;33m.\u001b[0m\u001b[0minsert\u001b[0m\u001b[1;33m(\u001b[0m\u001b[0mlen\u001b[0m\u001b[1;33m(\u001b[0m\u001b[0mindex\u001b[0m\u001b[1;33m)\u001b[0m\u001b[1;33m,\u001b[0m \u001b[0mkey\u001b[0m\u001b[1;33m)\u001b[0m\u001b[1;33m\u001b[0m\u001b[1;33m\u001b[0m\u001b[0m\n\u001b[1;32m--> 860\u001b[1;33m                     \u001b[0mself\u001b[0m\u001b[1;33m.\u001b[0m\u001b[0mobj\u001b[0m\u001b[1;33m.\u001b[0m\u001b[0m_data\u001b[0m \u001b[1;33m=\u001b[0m \u001b[0mself\u001b[0m\u001b[1;33m.\u001b[0m\u001b[0mobj\u001b[0m\u001b[1;33m.\u001b[0m\u001b[0mreindex\u001b[0m\u001b[1;33m(\u001b[0m\u001b[0mlabels\u001b[0m\u001b[1;33m,\u001b[0m \u001b[0maxis\u001b[0m\u001b[1;33m=\u001b[0m\u001b[0mi\u001b[0m\u001b[1;33m)\u001b[0m\u001b[1;33m.\u001b[0m\u001b[0m_data\u001b[0m\u001b[1;33m\u001b[0m\u001b[1;33m\u001b[0m\u001b[0m\n\u001b[0m\u001b[0;32m    861\u001b[0m                     \u001b[0mself\u001b[0m\u001b[1;33m.\u001b[0m\u001b[0mobj\u001b[0m\u001b[1;33m.\u001b[0m\u001b[0m_maybe_update_cacher\u001b[0m\u001b[1;33m(\u001b[0m\u001b[0mclear\u001b[0m\u001b[1;33m=\u001b[0m\u001b[1;32mTrue\u001b[0m\u001b[1;33m)\u001b[0m\u001b[1;33m\u001b[0m\u001b[1;33m\u001b[0m\u001b[0m\n\u001b[0;32m    862\u001b[0m                     \u001b[0mself\u001b[0m\u001b[1;33m.\u001b[0m\u001b[0mobj\u001b[0m\u001b[1;33m.\u001b[0m\u001b[0m_is_copy\u001b[0m \u001b[1;33m=\u001b[0m \u001b[1;32mNone\u001b[0m\u001b[1;33m\u001b[0m\u001b[1;33m\u001b[0m\u001b[0m\n",
      "\u001b[1;32m~\\anaconda3\\envs\\venv\\lib\\site-packages\\pandas\\util\\_decorators.py\u001b[0m in \u001b[0;36mwrapper\u001b[1;34m(*args, **kwargs)\u001b[0m\n\u001b[0;32m    225\u001b[0m         \u001b[1;33m@\u001b[0m\u001b[0mwraps\u001b[0m\u001b[1;33m(\u001b[0m\u001b[0mfunc\u001b[0m\u001b[1;33m)\u001b[0m\u001b[1;33m\u001b[0m\u001b[1;33m\u001b[0m\u001b[0m\n\u001b[0;32m    226\u001b[0m         \u001b[1;32mdef\u001b[0m \u001b[0mwrapper\u001b[0m\u001b[1;33m(\u001b[0m\u001b[1;33m*\u001b[0m\u001b[0margs\u001b[0m\u001b[1;33m,\u001b[0m \u001b[1;33m**\u001b[0m\u001b[0mkwargs\u001b[0m\u001b[1;33m)\u001b[0m \u001b[1;33m->\u001b[0m \u001b[0mCallable\u001b[0m\u001b[1;33m[\u001b[0m\u001b[1;33m...\u001b[0m\u001b[1;33m,\u001b[0m \u001b[0mAny\u001b[0m\u001b[1;33m]\u001b[0m\u001b[1;33m:\u001b[0m\u001b[1;33m\u001b[0m\u001b[1;33m\u001b[0m\u001b[0m\n\u001b[1;32m--> 227\u001b[1;33m             \u001b[1;32mreturn\u001b[0m \u001b[0mfunc\u001b[0m\u001b[1;33m(\u001b[0m\u001b[1;33m*\u001b[0m\u001b[0margs\u001b[0m\u001b[1;33m,\u001b[0m \u001b[1;33m**\u001b[0m\u001b[0mkwargs\u001b[0m\u001b[1;33m)\u001b[0m\u001b[1;33m\u001b[0m\u001b[1;33m\u001b[0m\u001b[0m\n\u001b[0m\u001b[0;32m    228\u001b[0m \u001b[1;33m\u001b[0m\u001b[0m\n\u001b[0;32m    229\u001b[0m         \u001b[0mkind\u001b[0m \u001b[1;33m=\u001b[0m \u001b[0minspect\u001b[0m\u001b[1;33m.\u001b[0m\u001b[0mParameter\u001b[0m\u001b[1;33m.\u001b[0m\u001b[0mPOSITIONAL_OR_KEYWORD\u001b[0m\u001b[1;33m\u001b[0m\u001b[1;33m\u001b[0m\u001b[0m\n",
      "\u001b[1;32m~\\anaconda3\\envs\\venv\\lib\\site-packages\\pandas\\core\\frame.py\u001b[0m in \u001b[0;36mreindex\u001b[1;34m(self, *args, **kwargs)\u001b[0m\n\u001b[0;32m   3854\u001b[0m         \u001b[0mkwargs\u001b[0m\u001b[1;33m.\u001b[0m\u001b[0mpop\u001b[0m\u001b[1;33m(\u001b[0m\u001b[1;34m\"axis\"\u001b[0m\u001b[1;33m,\u001b[0m \u001b[1;32mNone\u001b[0m\u001b[1;33m)\u001b[0m\u001b[1;33m\u001b[0m\u001b[1;33m\u001b[0m\u001b[0m\n\u001b[0;32m   3855\u001b[0m         \u001b[0mkwargs\u001b[0m\u001b[1;33m.\u001b[0m\u001b[0mpop\u001b[0m\u001b[1;33m(\u001b[0m\u001b[1;34m\"labels\"\u001b[0m\u001b[1;33m,\u001b[0m \u001b[1;32mNone\u001b[0m\u001b[1;33m)\u001b[0m\u001b[1;33m\u001b[0m\u001b[1;33m\u001b[0m\u001b[0m\n\u001b[1;32m-> 3856\u001b[1;33m         \u001b[1;32mreturn\u001b[0m \u001b[0msuper\u001b[0m\u001b[1;33m(\u001b[0m\u001b[1;33m)\u001b[0m\u001b[1;33m.\u001b[0m\u001b[0mreindex\u001b[0m\u001b[1;33m(\u001b[0m\u001b[1;33m**\u001b[0m\u001b[0mkwargs\u001b[0m\u001b[1;33m)\u001b[0m\u001b[1;33m\u001b[0m\u001b[1;33m\u001b[0m\u001b[0m\n\u001b[0m\u001b[0;32m   3857\u001b[0m \u001b[1;33m\u001b[0m\u001b[0m\n\u001b[0;32m   3858\u001b[0m     def drop(\n",
      "\u001b[1;32m~\\anaconda3\\envs\\venv\\lib\\site-packages\\pandas\\core\\generic.py\u001b[0m in \u001b[0;36mreindex\u001b[1;34m(self, *args, **kwargs)\u001b[0m\n\u001b[0;32m   4542\u001b[0m         \u001b[1;31m# perform the reindex on the axes\u001b[0m\u001b[1;33m\u001b[0m\u001b[1;33m\u001b[0m\u001b[1;33m\u001b[0m\u001b[0m\n\u001b[0;32m   4543\u001b[0m         return self._reindex_axes(\n\u001b[1;32m-> 4544\u001b[1;33m             \u001b[0maxes\u001b[0m\u001b[1;33m,\u001b[0m \u001b[0mlevel\u001b[0m\u001b[1;33m,\u001b[0m \u001b[0mlimit\u001b[0m\u001b[1;33m,\u001b[0m \u001b[0mtolerance\u001b[0m\u001b[1;33m,\u001b[0m \u001b[0mmethod\u001b[0m\u001b[1;33m,\u001b[0m \u001b[0mfill_value\u001b[0m\u001b[1;33m,\u001b[0m \u001b[0mcopy\u001b[0m\u001b[1;33m\u001b[0m\u001b[1;33m\u001b[0m\u001b[0m\n\u001b[0m\u001b[0;32m   4545\u001b[0m         ).__finalize__(self)\n\u001b[0;32m   4546\u001b[0m \u001b[1;33m\u001b[0m\u001b[0m\n",
      "\u001b[1;32m~\\anaconda3\\envs\\venv\\lib\\site-packages\\pandas\\core\\frame.py\u001b[0m in \u001b[0;36m_reindex_axes\u001b[1;34m(self, axes, level, limit, tolerance, method, fill_value, copy)\u001b[0m\n\u001b[0;32m   3742\u001b[0m         \u001b[1;32mif\u001b[0m \u001b[0mindex\u001b[0m \u001b[1;32mis\u001b[0m \u001b[1;32mnot\u001b[0m \u001b[1;32mNone\u001b[0m\u001b[1;33m:\u001b[0m\u001b[1;33m\u001b[0m\u001b[1;33m\u001b[0m\u001b[0m\n\u001b[0;32m   3743\u001b[0m             frame = frame._reindex_index(\n\u001b[1;32m-> 3744\u001b[1;33m                 \u001b[0mindex\u001b[0m\u001b[1;33m,\u001b[0m \u001b[0mmethod\u001b[0m\u001b[1;33m,\u001b[0m \u001b[0mcopy\u001b[0m\u001b[1;33m,\u001b[0m \u001b[0mlevel\u001b[0m\u001b[1;33m,\u001b[0m \u001b[0mfill_value\u001b[0m\u001b[1;33m,\u001b[0m \u001b[0mlimit\u001b[0m\u001b[1;33m,\u001b[0m \u001b[0mtolerance\u001b[0m\u001b[1;33m\u001b[0m\u001b[1;33m\u001b[0m\u001b[0m\n\u001b[0m\u001b[0;32m   3745\u001b[0m             )\n\u001b[0;32m   3746\u001b[0m \u001b[1;33m\u001b[0m\u001b[0m\n",
      "\u001b[1;32m~\\anaconda3\\envs\\venv\\lib\\site-packages\\pandas\\core\\frame.py\u001b[0m in \u001b[0;36m_reindex_index\u001b[1;34m(self, new_index, method, copy, level, fill_value, limit, tolerance)\u001b[0m\n\u001b[0;32m   3758\u001b[0m     ):\n\u001b[0;32m   3759\u001b[0m         new_index, indexer = self.index.reindex(\n\u001b[1;32m-> 3760\u001b[1;33m             \u001b[0mnew_index\u001b[0m\u001b[1;33m,\u001b[0m \u001b[0mmethod\u001b[0m\u001b[1;33m=\u001b[0m\u001b[0mmethod\u001b[0m\u001b[1;33m,\u001b[0m \u001b[0mlevel\u001b[0m\u001b[1;33m=\u001b[0m\u001b[0mlevel\u001b[0m\u001b[1;33m,\u001b[0m \u001b[0mlimit\u001b[0m\u001b[1;33m=\u001b[0m\u001b[0mlimit\u001b[0m\u001b[1;33m,\u001b[0m \u001b[0mtolerance\u001b[0m\u001b[1;33m=\u001b[0m\u001b[0mtolerance\u001b[0m\u001b[1;33m\u001b[0m\u001b[1;33m\u001b[0m\u001b[0m\n\u001b[0m\u001b[0;32m   3761\u001b[0m         )\n\u001b[0;32m   3762\u001b[0m         return self._reindex_with_indexers(\n",
      "\u001b[1;32m~\\anaconda3\\envs\\venv\\lib\\site-packages\\pandas\\core\\indexes\\base.py\u001b[0m in \u001b[0;36mreindex\u001b[1;34m(self, target, method, level, limit, tolerance)\u001b[0m\n\u001b[0;32m   3143\u001b[0m                 \u001b[1;32mif\u001b[0m \u001b[0mself\u001b[0m\u001b[1;33m.\u001b[0m\u001b[0mis_unique\u001b[0m \u001b[1;32mand\u001b[0m \u001b[1;32mnot\u001b[0m \u001b[0mgetattr\u001b[0m\u001b[1;33m(\u001b[0m\u001b[0mself\u001b[0m\u001b[1;33m,\u001b[0m \u001b[1;34m\"is_overlapping\"\u001b[0m\u001b[1;33m,\u001b[0m \u001b[1;32mFalse\u001b[0m\u001b[1;33m)\u001b[0m\u001b[1;33m:\u001b[0m\u001b[1;33m\u001b[0m\u001b[1;33m\u001b[0m\u001b[0m\n\u001b[0;32m   3144\u001b[0m                     indexer = self.get_indexer(\n\u001b[1;32m-> 3145\u001b[1;33m                         \u001b[0mtarget\u001b[0m\u001b[1;33m,\u001b[0m \u001b[0mmethod\u001b[0m\u001b[1;33m=\u001b[0m\u001b[0mmethod\u001b[0m\u001b[1;33m,\u001b[0m \u001b[0mlimit\u001b[0m\u001b[1;33m=\u001b[0m\u001b[0mlimit\u001b[0m\u001b[1;33m,\u001b[0m \u001b[0mtolerance\u001b[0m\u001b[1;33m=\u001b[0m\u001b[0mtolerance\u001b[0m\u001b[1;33m\u001b[0m\u001b[1;33m\u001b[0m\u001b[0m\n\u001b[0m\u001b[0;32m   3146\u001b[0m                     )\n\u001b[0;32m   3147\u001b[0m                 \u001b[1;32melse\u001b[0m\u001b[1;33m:\u001b[0m\u001b[1;33m\u001b[0m\u001b[1;33m\u001b[0m\u001b[0m\n",
      "\u001b[1;32m~\\anaconda3\\envs\\venv\\lib\\site-packages\\pandas\\core\\indexes\\base.py\u001b[0m in \u001b[0;36mget_indexer\u001b[1;34m(self, target, method, limit, tolerance)\u001b[0m\n\u001b[0;32m   2751\u001b[0m                 )\n\u001b[0;32m   2752\u001b[0m \u001b[1;33m\u001b[0m\u001b[0m\n\u001b[1;32m-> 2753\u001b[1;33m             \u001b[0mindexer\u001b[0m \u001b[1;33m=\u001b[0m \u001b[0mself\u001b[0m\u001b[1;33m.\u001b[0m\u001b[0m_engine\u001b[0m\u001b[1;33m.\u001b[0m\u001b[0mget_indexer\u001b[0m\u001b[1;33m(\u001b[0m\u001b[0mtarget\u001b[0m\u001b[1;33m.\u001b[0m\u001b[0m_ndarray_values\u001b[0m\u001b[1;33m)\u001b[0m\u001b[1;33m\u001b[0m\u001b[1;33m\u001b[0m\u001b[0m\n\u001b[0m\u001b[0;32m   2754\u001b[0m \u001b[1;33m\u001b[0m\u001b[0m\n\u001b[0;32m   2755\u001b[0m         \u001b[1;32mreturn\u001b[0m \u001b[0mensure_platform_int\u001b[0m\u001b[1;33m(\u001b[0m\u001b[0mindexer\u001b[0m\u001b[1;33m)\u001b[0m\u001b[1;33m\u001b[0m\u001b[1;33m\u001b[0m\u001b[0m\n",
      "\u001b[1;32mpandas\\_libs\\index.pyx\u001b[0m in \u001b[0;36mpandas._libs.index.IndexEngine.get_indexer\u001b[1;34m()\u001b[0m\n",
      "\u001b[1;32mpandas\\_libs\\hashtable_class_helper.pxi\u001b[0m in \u001b[0;36mpandas._libs.hashtable.Int64HashTable.lookup\u001b[1;34m()\u001b[0m\n",
      "\u001b[1;32m~\\anaconda3\\envs\\venv\\lib\\site-packages\\numpy\\core\\_asarray.py\u001b[0m in \u001b[0;36masarray\u001b[1;34m(a, dtype, order)\u001b[0m\n\u001b[0;32m     14\u001b[0m ]\n\u001b[0;32m     15\u001b[0m \u001b[1;33m\u001b[0m\u001b[0m\n\u001b[1;32m---> 16\u001b[1;33m \u001b[1;33m@\u001b[0m\u001b[0mset_module\u001b[0m\u001b[1;33m(\u001b[0m\u001b[1;34m'numpy'\u001b[0m\u001b[1;33m)\u001b[0m\u001b[1;33m\u001b[0m\u001b[1;33m\u001b[0m\u001b[0m\n\u001b[0m\u001b[0;32m     17\u001b[0m \u001b[1;32mdef\u001b[0m \u001b[0masarray\u001b[0m\u001b[1;33m(\u001b[0m\u001b[0ma\u001b[0m\u001b[1;33m,\u001b[0m \u001b[0mdtype\u001b[0m\u001b[1;33m=\u001b[0m\u001b[1;32mNone\u001b[0m\u001b[1;33m,\u001b[0m \u001b[0morder\u001b[0m\u001b[1;33m=\u001b[0m\u001b[1;32mNone\u001b[0m\u001b[1;33m)\u001b[0m\u001b[1;33m:\u001b[0m\u001b[1;33m\u001b[0m\u001b[1;33m\u001b[0m\u001b[0m\n\u001b[0;32m     18\u001b[0m     \"\"\"Convert the input to an array.\n",
      "\u001b[1;31mKeyboardInterrupt\u001b[0m: "
     ]
    }
   ],
   "source": [
    "#Aggregate all the nationalities that are under 30'000 count in 'ALTRO'\n",
    "result = [key for key in table if table[key] > 30000]\n",
    "print(result) \n",
    "\n",
    "for index, x in enumerate(rapporti_lavoro_attivati_df['ITALIANO']):\n",
    "    if x not in result:\n",
    "        rapporti_lavoro_attivati_df.at[index, 'ITALIANO'] = 'ALTRO'\n"
   ]
  },
  {
   "cell_type": "code",
   "execution_count": null,
   "metadata": {},
   "outputs": [],
   "source": [
    "rapporti_lavoro_attivati_df['ITALIANO'].value_counts() "
   ]
  },
  {
   "cell_type": "code",
   "execution_count": null,
   "metadata": {},
   "outputs": [],
   "source": [
    "rapporti_lavoro_attivati_df.dtypes"
   ]
  }
 ],
 "metadata": {
  "kernelspec": {
   "display_name": "Python 3",
   "language": "python",
   "name": "python3"
  },
  "language_info": {
   "codemirror_mode": {
    "name": "ipython",
    "version": 3
   },
   "file_extension": ".py",
   "mimetype": "text/x-python",
   "name": "python",
   "nbconvert_exporter": "python",
   "pygments_lexer": "ipython3",
   "version": "3.6.10"
  }
 },
 "nbformat": 4,
 "nbformat_minor": 4
}
